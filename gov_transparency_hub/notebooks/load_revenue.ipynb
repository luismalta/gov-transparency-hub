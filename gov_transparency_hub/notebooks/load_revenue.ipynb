{
 "cells": [
  {
   "cell_type": "code",
   "execution_count": 1,
   "metadata": {},
   "outputs": [],
   "source": [
    "import boto3\n",
    "import pandas as pd\n",
    "from io import BytesIO\n",
    "from datetime import datetime\n",
    "\n",
    "endpoint_url =  'http://localhost:9000'\n",
    "aws_access_key_id = 'teste'\n",
    "aws_secret_access_key = 'OH9PTqKV1FRWV5fmWAMAEfUh05JWR1TOESxIhMww'\n",
    "bucket_name = 'tiradentes'\n",
    "filename = 'revenue/tiradentes-revenue-2024-01-24'\n",
    "\n",
    "s3_resource = boto3.resource(\n",
    "    's3', \n",
    "    endpoint_url=endpoint_url,\n",
    "    aws_access_key_id=aws_access_key_id,\n",
    "    aws_secret_access_key=aws_secret_access_key,\n",
    "    aws_session_token=None,\n",
    ")\n",
    "\n",
    "bucket = s3_resource.Bucket(bucket_name)\n",
    "    \n",
    "obj = s3_resource.Object(bucket_name, filename)\n",
    "df = pd.read_parquet(BytesIO(obj.get()['Body'].read()))"
   ]
  },
  {
   "cell_type": "code",
   "execution_count": 5,
   "metadata": {},
   "outputs": [
    {
     "data": {
      "text/html": [
       "<div>\n",
       "<style scoped>\n",
       "    .dataframe tbody tr th:only-of-type {\n",
       "        vertical-align: middle;\n",
       "    }\n",
       "\n",
       "    .dataframe tbody tr th {\n",
       "        vertical-align: top;\n",
       "    }\n",
       "\n",
       "    .dataframe thead th {\n",
       "        text-align: right;\n",
       "    }\n",
       "</style>\n",
       "<table border=\"1\" class=\"dataframe\">\n",
       "  <thead>\n",
       "    <tr style=\"text-align: right;\">\n",
       "      <th></th>\n",
       "      <th>Data</th>\n",
       "      <th>Tipo de Minuta</th>\n",
       "      <th>Receita</th>\n",
       "      <th>Unnamed: 3</th>\n",
       "      <th>Fonte de Recursos</th>\n",
       "      <th>CO TCE</th>\n",
       "      <th>CO AUX</th>\n",
       "      <th>Histórico</th>\n",
       "      <th>Valor</th>\n",
       "    </tr>\n",
       "  </thead>\n",
       "  <tbody>\n",
       "    <tr>\n",
       "      <th>0</th>\n",
       "      <td>TOTAL</td>\n",
       "      <td>0</td>\n",
       "      <td>NaN</td>\n",
       "      <td>NaN</td>\n",
       "      <td>NaN</td>\n",
       "      <td>NaN</td>\n",
       "      <td>NaN</td>\n",
       "      <td>NaN</td>\n",
       "      <td>NaN</td>\n",
       "    </tr>\n",
       "  </tbody>\n",
       "</table>\n",
       "</div>"
      ],
      "text/plain": [
       "    Data  Tipo de Minuta  Receita  Unnamed: 3  Fonte de Recursos  CO TCE  \\\n",
       "0  TOTAL               0      NaN         NaN                NaN     NaN   \n",
       "\n",
       "   CO AUX  Histórico  Valor  \n",
       "0     NaN        NaN    NaN  "
      ]
     },
     "execution_count": 5,
     "metadata": {},
     "output_type": "execute_result"
    }
   ],
   "source": [
    "SELECT_LAST_REVENUE_DATE_FROM_MONTH = \"\"\"\n",
    "    select date\n",
    "    from revenue\n",
    "    where to_char(date, 'YYYY-MM') = '{}'\n",
    "    order by date desc\n",
    "    limit 1\n",
    "\"\"\"\n",
    "\n",
    "CITY_REVENUE_COLUMNS_RENAME = {\n",
    "    'Data': 'date',\n",
    "    'Tipo de Minuta': 'draft_type',\n",
    "    'Receita': 'revenue',\n",
    "    'Unnamed: 3': 'source',\n",
    "    'Fonte de Recursos': 'resource_source',\n",
    "    'CO TCE': 'co_tce',\n",
    "    'CO AUX': 'co_aux',\n",
    "    'Histórico': 'historic',\n",
    "    'Valor': 'value',\n",
    "}\n",
    "df = pd.read_parquet(BytesIO(obj.get()['Body'].read()))\n",
    "\n",
    "\n",
    "city_name = 'tiradentes'\n",
    "\n",
    "df.head()\n",
    "\n",
    "# df.query('not Data.str.contains(\"TOTAL\")', engine='python', inplace=True)\n",
    "# df.query('not Data.str.contains(\"Total do Dia\")', engine='python', inplace=True)\n",
    "# df.rename(columns=CITY_REVENUE_COLUMNS_RENAME, inplace=True)\n",
    "\n",
    "# df['date'] = pd.to_datetime(df['date'], format=\"%d/%m/%Y\")\n",
    "# df['city'] = city_name\n",
    "\n",
    "\n",
    "# query_cursor = postgres_resource.execute_query(\n",
    "#     SELECT_LAST_REVENUE_DATE_FROM_MONTH.format(partition_date_str[:7])\n",
    "# )\n",
    "\n",
    "# last_revenue = False\n",
    "# try:\n",
    "#     last_revenue = query_cursor.one()\n",
    "# except NoResultFound:\n",
    "#     context.log.info(\"No record of previous revenue found in database\")\n",
    "# if last_revenue:\n",
    "#     last_revenue_date = last_revenue[0]\n",
    "#     df.query(f'date > \"{last_revenue_date}\"', inplace=True)\n",
    "\n",
    "df\n",
    "\n"
   ]
  },
  {
   "cell_type": "code",
   "execution_count": 13,
   "metadata": {},
   "outputs": [
    {
     "data": {
      "text/plain": [
       "473"
      ]
     },
     "execution_count": 13,
     "metadata": {},
     "output_type": "execute_result"
    }
   ],
   "source": [
    "import pandas as pd\n",
    "from sqlalchemy import create_engine, URL, text\n",
    "\n",
    "url = URL.create(\n",
    "    \"postgresql+psycopg2\",\n",
    "    username='postgres',\n",
    "    password='postgres',\n",
    "    host='localhost',\n",
    "    port=5432,\n",
    "    database='gov_transparency_hub',\n",
    ")\n",
    "\n",
    "conn = create_engine(url).connect()\n",
    "\n",
    "df.to_sql('revenue', conn, if_exists='append', index=False)"
   ]
  }
 ],
 "metadata": {
  "kernelspec": {
   "display_name": "minas-data-lab-tGlWTmNz-py3.10",
   "language": "python",
   "name": "python3"
  },
  "language_info": {
   "codemirror_mode": {
    "name": "ipython",
    "version": 3
   },
   "file_extension": ".py",
   "mimetype": "text/x-python",
   "name": "python",
   "nbconvert_exporter": "python",
   "pygments_lexer": "ipython3",
   "version": "3.10.12"
  }
 },
 "nbformat": 4,
 "nbformat_minor": 2
}
