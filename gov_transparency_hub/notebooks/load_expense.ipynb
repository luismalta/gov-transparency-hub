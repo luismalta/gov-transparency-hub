{
 "cells": [
  {
   "cell_type": "code",
   "execution_count": 2,
   "metadata": {},
   "outputs": [],
   "source": [
    "import boto3\n",
    "import pandas as pd\n",
    "from io import BytesIO\n",
    "from datetime import datetime\n",
    "\n",
    "endpoint_url =  'http://localhost:9000'\n",
    "aws_access_key_id = 'teste'\n",
    "aws_secret_access_key = 'OH9PTqKV1FRWV5fmWAMAEfUh05JWR1TOESxIhMww'\n",
    "bucket_name = 'tiradentes'\n",
    "filename = 'detailed_expens/tiradentes-detailed_expens-2023-12-06'\n",
    "\n",
    "s3_resource = boto3.resource(\n",
    "    's3', \n",
    "    endpoint_url=endpoint_url,\n",
    "    aws_access_key_id=aws_access_key_id,\n",
    "    aws_secret_access_key=aws_secret_access_key,\n",
    "    aws_session_token=None,\n",
    ")\n",
    "\n",
    "bucket = s3_resource.Bucket(bucket_name)\n",
    "    \n",
    "obj = s3_resource.Object(bucket_name, filename)\n"
   ]
  },
  {
   "cell_type": "code",
   "execution_count": 34,
   "metadata": {},
   "outputs": [
    {
     "ename": "TypeError",
     "evalue": "to_datetime() got an unexpected keyword argument 'inplace'",
     "output_type": "error",
     "traceback": [
      "\u001b[0;31m---------------------------------------------------------------------------\u001b[0m",
      "\u001b[0;31mTypeError\u001b[0m                                 Traceback (most recent call last)",
      "Cell \u001b[0;32mIn[34], line 27\u001b[0m\n\u001b[1;32m      4\u001b[0m CITY_EXPENSE_COLUMNS_RENAME \u001b[38;5;241m=\u001b[39m {\n\u001b[1;32m      5\u001b[0m     \u001b[38;5;124m\"\u001b[39m\u001b[38;5;124mNúmero\u001b[39m\u001b[38;5;124m\"\u001b[39m: \u001b[38;5;124m\"\u001b[39m\u001b[38;5;124mnumber\u001b[39m\u001b[38;5;124m\"\u001b[39m,\n\u001b[1;32m      6\u001b[0m     \u001b[38;5;124m\"\u001b[39m\u001b[38;5;124mExercício\u001b[39m\u001b[38;5;124m\"\u001b[39m: \u001b[38;5;124m\"\u001b[39m\u001b[38;5;124myear\u001b[39m\u001b[38;5;124m\"\u001b[39m,\n\u001b[0;32m   (...)\u001b[0m\n\u001b[1;32m     23\u001b[0m     \u001b[38;5;124m\"\u001b[39m\u001b[38;5;124mHistórico\u001b[39m\u001b[38;5;124m\"\u001b[39m: \u001b[38;5;124m\"\u001b[39m\u001b[38;5;124mhistory\u001b[39m\u001b[38;5;124m\"\u001b[39m,\n\u001b[1;32m     24\u001b[0m }\n\u001b[1;32m     26\u001b[0m df\u001b[38;5;241m.\u001b[39mrename(columns\u001b[38;5;241m=\u001b[39mCITY_EXPENSE_COLUMNS_RENAME, inplace\u001b[38;5;241m=\u001b[39m\u001b[38;5;28;01mTrue\u001b[39;00m)\n\u001b[0;32m---> 27\u001b[0m \u001b[43mpd\u001b[49m\u001b[38;5;241;43m.\u001b[39;49m\u001b[43mto_datetime\u001b[49m\u001b[43m(\u001b[49m\u001b[43mdf\u001b[49m\u001b[43m[\u001b[49m\u001b[38;5;124;43m'\u001b[39;49m\u001b[38;5;124;43meffort_date\u001b[39;49m\u001b[38;5;124;43m'\u001b[39;49m\u001b[43m]\u001b[49m\u001b[43m,\u001b[49m\u001b[43m \u001b[49m\u001b[38;5;28;43mformat\u001b[39;49m\u001b[38;5;241;43m=\u001b[39;49m\u001b[38;5;124;43m\"\u001b[39;49m\u001b[38;5;132;43;01m%d\u001b[39;49;00m\u001b[38;5;124;43m/\u001b[39;49m\u001b[38;5;124;43m%\u001b[39;49m\u001b[38;5;124;43mm/\u001b[39;49m\u001b[38;5;124;43m%\u001b[39;49m\u001b[38;5;124;43mY\u001b[39;49m\u001b[38;5;124;43m\"\u001b[39;49m\u001b[43m,\u001b[49m\u001b[43m \u001b[49m\u001b[43minplace\u001b[49m\u001b[38;5;241;43m=\u001b[39;49m\u001b[38;5;28;43;01mTrue\u001b[39;49;00m\u001b[43m)\u001b[49m\n\u001b[1;32m     28\u001b[0m pd\u001b[38;5;241m.\u001b[39mto_datetime(df[\u001b[38;5;124m'\u001b[39m\u001b[38;5;124msettlement_date\u001b[39m\u001b[38;5;124m'\u001b[39m], \u001b[38;5;28mformat\u001b[39m\u001b[38;5;241m=\u001b[39m\u001b[38;5;124m\"\u001b[39m\u001b[38;5;132;01m%d\u001b[39;00m\u001b[38;5;124m/\u001b[39m\u001b[38;5;124m%\u001b[39m\u001b[38;5;124mm/\u001b[39m\u001b[38;5;124m%\u001b[39m\u001b[38;5;124mY\u001b[39m\u001b[38;5;124m\"\u001b[39m, inplace\u001b[38;5;241m=\u001b[39m\u001b[38;5;28;01mTrue\u001b[39;00m)\n\u001b[1;32m     29\u001b[0m pd\u001b[38;5;241m.\u001b[39mto_datetime(df[\u001b[38;5;124m'\u001b[39m\u001b[38;5;124mpayment_date\u001b[39m\u001b[38;5;124m'\u001b[39m], \u001b[38;5;28mformat\u001b[39m\u001b[38;5;241m=\u001b[39m\u001b[38;5;124m\"\u001b[39m\u001b[38;5;132;01m%d\u001b[39;00m\u001b[38;5;124m/\u001b[39m\u001b[38;5;124m%\u001b[39m\u001b[38;5;124mm/\u001b[39m\u001b[38;5;124m%\u001b[39m\u001b[38;5;124mY\u001b[39m\u001b[38;5;124m\"\u001b[39m, inplace\u001b[38;5;241m=\u001b[39m\u001b[38;5;28;01mTrue\u001b[39;00m)\n",
      "\u001b[0;31mTypeError\u001b[0m: to_datetime() got an unexpected keyword argument 'inplace'"
     ]
    }
   ],
   "source": [
    "df = pd.read_parquet(BytesIO(obj.get()['Body'].read()))\n",
    "df.head()\n",
    "\n",
    "CITY_EXPENSE_COLUMNS_RENAME = {\n",
    "    \"Número\": \"number\",\n",
    "    \"Exercício\": \"year\",\n",
    "    \"Tipo\": \"type\",\n",
    "    \"Data do Empenho\": \"effort_date\",\n",
    "    \"Liquidação\": \"settlement_date\",\n",
    "    \"Pagamento\": \"payment_date\",\n",
    "    \"Unidade\": \"unit\",\n",
    "    \"Função\": \"function\",\n",
    "    \"Subfunção\": \"subfunction\",\n",
    "    \"Programa\": \"program\",\n",
    "    \"Projeto Atividade\": \"activity\",\n",
    "    \"Categoria Econômica\": \"economic_category\",\n",
    "    \"Fonte de Recurso\": \"resource_source\",\n",
    "    \"CO TCE\": \"co_tce\",\n",
    "    \"CO AUX\": \"co_aux\",\n",
    "    \"Valor\": \"value\",\n",
    "    \"Beneficiário\": \"creditor\",\n",
    "    \"CPF/CNPJ\": \"cpf_cnpj\",\n",
    "    \"Histórico\": \"history\",\n",
    "}\n",
    "\n",
    "df.rename(columns=CITY_EXPENSE_COLUMNS_RENAME, inplace=True)\n",
    "df['effort_date'] = pd.to_datetime(df['effort_date'], format=\"%d/%m/%Y\")\n",
    "df['settlement_date'] = pd.to_datetime(df['settlement_date'], format=\"%d/%m/%Y\")\n",
    "df['payment_date'] = pd.to_datetime(df['payment_date'], format=\"%d/%m/%Y\")\n",
    "\n",
    "\n",
    "df['value'] = df['value'].replace('\\.', '',regex=True)\n",
    "df['value'] = df['value'].replace(',', '.', regex=True)\n",
    "df.astype({'value': 'float'})\n",
    "\n",
    "df['city'] = 'tiradentes'\n",
    "df.head()"
   ]
  },
  {
   "cell_type": "code",
   "execution_count": 33,
   "metadata": {},
   "outputs": [
    {
     "data": {
      "text/plain": [
       "249"
      ]
     },
     "execution_count": 33,
     "metadata": {},
     "output_type": "execute_result"
    }
   ],
   "source": [
    "import pandas as pd\n",
    "from sqlalchemy import create_engine, URL, text\n",
    "\n",
    "url = URL.create(\n",
    "    \"postgresql+psycopg2\",\n",
    "    username='postgres',\n",
    "    password='postgres',\n",
    "    host='localhost',\n",
    "    port=5432,\n",
    "    database='gov_transparency_hub',\n",
    ")\n",
    "\n",
    "conn = create_engine(url).connect()\n",
    "\n",
    "df.to_sql('expense', conn, if_exists='append', index=False)"
   ]
  }
 ],
 "metadata": {
  "kernelspec": {
   "display_name": "gov_transparency_hub-tGlWTmNz-py3.10",
   "language": "python",
   "name": "python3"
  },
  "language_info": {
   "codemirror_mode": {
    "name": "ipython",
    "version": 3
   },
   "file_extension": ".py",
   "mimetype": "text/x-python",
   "name": "python",
   "nbconvert_exporter": "python",
   "pygments_lexer": "ipython3",
   "version": "3.10.12"
  }
 },
 "nbformat": 4,
 "nbformat_minor": 2
}
